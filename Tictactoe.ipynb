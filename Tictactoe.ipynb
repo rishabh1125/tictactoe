{
 "cells": [
  {
   "cell_type": "markdown",
   "metadata": {},
   "source": [
    "Important functions(ignore)"
   ]
  },
  {
   "cell_type": "code",
   "execution_count": 1,
   "metadata": {},
   "outputs": [],
   "source": [
    "states = {}\n",
    "alpha = .15\n",
    "lines = [(0,1,2), (3,4,5), (6,7,8), (0,3,6), (1,4,7), (2,5,8), (0,4,8), (2,4,6)]"
   ]
  },
  {
   "cell_type": "code",
   "execution_count": 2,
   "metadata": {},
   "outputs": [],
   "source": [
    "def fetch_val(state):\n",
    "    if state in states:\n",
    "        return states[state]\n",
    "    else:\n",
    "        return 0.5"
   ]
  },
  {
   "cell_type": "code",
   "execution_count": 3,
   "metadata": {},
   "outputs": [],
   "source": [
    "def update_val(curr_states,final_points):\n",
    "    siz=len(curr_states)\n",
    "    states[curr_states[-1]] = final_points\n",
    "    for i in range (siz-2,-1,-1):\n",
    "        if curr_states[i] in states:\n",
    "            states[curr_states[i]] = states[curr_states[i]] + alpha*(states[curr_states[i+1]]-states[curr_states[i]])\n",
    "        else:\n",
    "            states[curr_states[i]] = 0.5 + alpha*(states[curr_states[i+1]]-0.5)"
   ]
  },
  {
   "cell_type": "code",
   "execution_count": 4,
   "metadata": {},
   "outputs": [],
   "source": [
    "def update_str(string,index,char):\n",
    "    new_str=''\n",
    "    length=len(string)\n",
    "    for i in range (length):\n",
    "        if i == index:\n",
    "            new_str=new_str+char\n",
    "        else:\n",
    "            new_str=new_str+string[i]\n",
    "    return new_str    "
   ]
  },
  {
   "cell_type": "code",
   "execution_count": 5,
   "metadata": {},
   "outputs": [],
   "source": [
    "def agent_play(state):\n",
    "    best_val=1.0\n",
    "    new_state = ''\n",
    "    best_state=''\n",
    "    for line in lines:\n",
    "        ch = state[line[0]]+state[line[1]]+state[line[2]]\n",
    "        if ch=='-XX':\n",
    "            state = update_str(state,line[0],'X')#state[line[0]] = 'X'\n",
    "            return state\n",
    "        elif ch=='X-X':\n",
    "            state = update_str(state,line[1],'X')\n",
    "            return state\n",
    "        elif ch=='XX-':\n",
    "            state = update_str(state,line[2],'X')\n",
    "            return state     \n",
    "        elif ch=='-00':\n",
    "            state = update_str(state,line[0],'X')\n",
    "            return state\n",
    "        elif ch=='0-0':\n",
    "            state = update_str(state,line[1],'X')\n",
    "            return state\n",
    "        elif ch=='00-':\n",
    "            state = update_str(state,line[2],'X')\n",
    "            return state\n",
    "        else: \n",
    "            for i in range(9):\n",
    "                if state[i]=='-':\n",
    "                    new_state = update_str(state,i,'X')\n",
    "                    if fetch_val(new_state)<best_val:\n",
    "                        best_state = new_state\n",
    "                        best_val = fetch_val(new_state)\n",
    "            return best_state"
   ]
  },
  {
   "cell_type": "code",
   "execution_count": 6,
   "metadata": {},
   "outputs": [],
   "source": [
    "def machine_play(state):\n",
    "    best_val = 0.0\n",
    "    new_state=''\n",
    "    best_state=''\n",
    "    for i in range(9):\n",
    "        if state[i]=='-':\n",
    "            new_state = update_str(state,i,'0')\n",
    "            if fetch_val(new_state)>best_val:\n",
    "                best_state = new_state\n",
    "                best_val = fetch_val(new_state)\n",
    "    return best_state"
   ]
  },
  {
   "cell_type": "markdown",
   "metadata": {},
   "source": [
    "Training machine for results"
   ]
  },
  {
   "cell_type": "code",
   "execution_count": 7,
   "metadata": {},
   "outputs": [],
   "source": [
    "for i in range(10000):\n",
    "    cur_states = [\"---------\"]\n",
    "    moves = 0\n",
    "    updated=False\n",
    "    while moves<9:\n",
    "        if moves%2==0:\n",
    "            cur_states.append(agent_play(cur_states[-1]))\n",
    "            moves= moves+1\n",
    "            for line in lines:\n",
    "                ch = cur_states[-1][line[0]]+cur_states[-1][line[1]]+cur_states[-1][line[2]]\n",
    "                if(ch=='XXX'):\n",
    "                    update_val(cur_states,0.0)\n",
    "                    updated = True\n",
    "                    break\n",
    "            if updated == True:\n",
    "                break\n",
    "        else:\n",
    "            cur_states.append(machine_play(cur_states[-1]))\n",
    "            moves= moves+1\n",
    "            for line in lines:\n",
    "                ch = cur_states[-1][line[0]]+cur_states[-1][line[1]]+cur_states[-1][line[2]]\n",
    "                if(ch=='000'):\n",
    "                    update_val(cur_states,1.0)\n",
    "                    updated = True\n",
    "                    break\n",
    "            if updated == True:\n",
    "                break\n",
    "    if updated == False:\n",
    "            update_val(cur_states,0.5)"
   ]
  },
  {
   "cell_type": "markdown",
   "metadata": {},
   "source": [
    "Gameplay"
   ]
  },
  {
   "cell_type": "code",
   "execution_count": 8,
   "metadata": {},
   "outputs": [],
   "source": [
    " def game_play():\n",
    "    cur_states = [\"---------\"]\n",
    "    moves = 0\n",
    "    check_pt=-1\n",
    "    updated=False\n",
    "    print('Refernce--')\n",
    "    for i in range(3):\n",
    "                print(str(3*i)+' '+str(3*i+1)+' '+str(3*i+2))\n",
    "    print('___________________')        \n",
    "    while moves<9:\n",
    "        if moves%2==0:\n",
    "            for i in range(3):\n",
    "                print(cur_states[-1][3*i]+' '+cur_states[-1][3*i+1]+' '+cur_states[-1][3*i+2])\n",
    "            check_pt=int(input())\n",
    "            if(cur_states[-1][check_pt]!='-'or check_pt>8 or check_pt<0):\n",
    "                print(\"Invalid input aborting\")\n",
    "                updated=True\n",
    "                break\n",
    "            else: \n",
    "                cur_states.append(update_str(cur_states[-1],check_pt,'X'))\n",
    "                #print(cur_states[-1])\n",
    "            moves= moves+1\n",
    "            for line in lines:\n",
    "                ch = cur_states[-1][line[0]]+cur_states[-1][line[1]]+cur_states[-1][line[2]]\n",
    "                if(ch=='XXX'):\n",
    "                    for i in range(3):\n",
    "                        print(cur_states[-1][3*i]+' '+cur_states[-1][3*i+1]+' '+cur_states[-1][3*i+2])\n",
    "                    print(\"You won!!!\")\n",
    "                    update_val(cur_states,0.0)\n",
    "                    updated = True\n",
    "                    return\n",
    "        else:\n",
    "            cur_states.append(machine_play(cur_states[-1]))\n",
    "            moves= moves+1\n",
    "            print('___________________')\n",
    "            print(\"AI is thinking....\")\n",
    "            for line in lines:\n",
    "                ch = cur_states[-1][line[0]]+cur_states[-1][line[1]]+cur_states[-1][line[2]]\n",
    "                if(ch=='000'):\n",
    "                    for i in range(3):\n",
    "                        print(cur_states[-1][3*i]+' '+cur_states[-1][3*i+1]+' '+cur_states[-1][3*i+2])\n",
    "                    print(\"machine won\")\n",
    "                    update_val(cur_states,1.0)\n",
    "                    updated = True\n",
    "                    return\n",
    "    if updated == False:\n",
    "        print('Tie')\n",
    "        update_val(cur_states,0.5)\n",
    "    print('Game ended')    \n",
    "    return "
   ]
  },
  {
   "cell_type": "code",
   "execution_count": 11,
   "metadata": {},
   "outputs": [
    {
     "name": "stdout",
     "output_type": "stream",
     "text": [
      "Refernce--\n",
      "0 1 2\n",
      "3 4 5\n",
      "6 7 8\n",
      "___________________\n",
      "- - -\n",
      "- - -\n",
      "- - -\n",
      "2\n",
      "___________________\n",
      "AI is thinking....\n",
      "- - X\n",
      "- 0 -\n",
      "- - -\n",
      "1\n",
      "___________________\n",
      "AI is thinking....\n",
      "0 X X\n",
      "- 0 -\n",
      "- - -\n",
      "8\n",
      "___________________\n",
      "AI is thinking....\n",
      "0 X X\n",
      "0 0 -\n",
      "- - X\n",
      "5\n",
      "0 X X\n",
      "0 0 X\n",
      "- - X\n",
      "You won!!!\n"
     ]
    }
   ],
   "source": [
    "game_play()"
   ]
  }
 ],
 "metadata": {
  "kernelspec": {
   "display_name": "Python 3",
   "language": "python",
   "name": "python3"
  },
  "language_info": {
   "codemirror_mode": {
    "name": "ipython",
    "version": 3
   },
   "file_extension": ".py",
   "mimetype": "text/x-python",
   "name": "python",
   "nbconvert_exporter": "python",
   "pygments_lexer": "ipython3",
   "version": "3.8.3"
  }
 },
 "nbformat": 4,
 "nbformat_minor": 4
}
